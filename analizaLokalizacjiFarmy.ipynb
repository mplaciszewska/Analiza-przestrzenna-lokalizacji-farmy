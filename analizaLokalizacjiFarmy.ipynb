{
 "cells": [
  {
   "cell_type": "code",
   "execution_count": 33,
   "metadata": {},
   "outputs": [],
   "source": [
    "import arcpy\n",
    "from arcpy import *\n",
    "#https://app.diagrams.net/\n",
    "\n",
    "output_folder = R\"C:\\Users\\mplaciszewska\\Documents\\ArcGIS\\Projects\\analiza_polozenia_farmy\\analiza_polozenia_farmy\\analiza_polozenia_farmy.gdb\"\n",
    "\n",
    "\n",
    "arcpy.env.workspace = R\"C:\\Users\\mplaciszewska\\Documents\\ArcGIS\\Projects\\analiza_polozenia_farmy\\analiza_polozenia_farmy\\analiza_polozenia_farmy.gdb\"\n",
    "arcpy.env.outputCoordinateSystem = arcpy.SpatialReference(\"ETRS 1989 Poland CS92\")\n",
    "arcpy.env.overwriteOutput = True\n",
    "arcpy.env.extent = (R\"C:\\Users\\mplaciszewska\\Documents\\ArcGIS\\Projects\\analiza_polozenia_farmy\\analiza_polozenia_farmy\\analiza_polozenia_farmy.gdb\\swieradow_zdroj_buffer\")\n",
    "arcpy.env.mask = (R\"C:\\Users\\mplaciszewska\\Documents\\ArcGIS\\Projects\\analiza_polozenia_farmy\\analiza_polozenia_farmy\\analiza_polozenia_farmy.gdb\\swieradow_zdroj_buffer\")\n",
    "arcpy.env.cellSize = (R\"C:\\Users\\mplaciszewska\\Desktop\\studia\\geoinf_sem_5\\analizy_przestrzenne\\cw1\\input_data\\gmina\\raster_extracted.tif\")\n",
    "\n",
    "aprx = arcpy.mp.ArcGISProject(\"CURRENT\") \n",
    "m = aprx.activeMap\n",
    "\n",
    "# wylaczenie dodawania warstw\n",
    "arcpy.env.addOutputsToMap = False\n",
    "\n"
   ]
  },
  {
   "cell_type": "code",
   "execution_count": 77,
   "metadata": {},
   "outputs": [
    {
     "data": {
      "text/html": [
       "<div class='gpresult'><h2>Messages</h2><div id='messages' data-messages='[\"Start Time: piątek, 27 grudnia 2024 17:10:26\",\"Succeeded at piątek, 27 grudnia 2024 17:10:27 (Elapsed Time: 0,98 seconds)\"]' data-show='true'><div id = 'default' /></div></div>"
      ],
      "text/plain": [
       "<Result 'in_memory\\\\geometry_issues'>"
      ]
     },
     "execution_count": 77,
     "metadata": {},
     "output_type": "execute_result"
    }
   ],
   "source": [
    "drogi_wszystkie = (R\"C:\\Users\\mplaciszewska\\Documents\\ArcGIS\\Projects\\analiza_polozenia_farmy\\analiza_polozenia_farmy\\analiza_polozenia_farmy.gdb\\SKDR.shp\")\n",
    "rzeki = (R\"C:\\Users\\mplaciszewska\\Documents\\ArcGIS\\Projects\\analiza_polozenia_farmy\\analiza_polozenia_farmy\\analiza_polozenia_farmy.gdb\\SWRS.shp\")\n",
    "jeziora = (R\"C:\\Users\\mplaciszewska\\Documents\\ArcGIS\\Projects\\analiza_polozenia_farmy\\analiza_polozenia_farmy\\analiza_polozenia_farmy.gdb\\PTWP.shp\")\n",
    "lasy = (R\"C:\\Users\\mplaciszewska\\Documents\\ArcGIS\\Projects\\analiza_polozenia_farmy\\analiza_polozenia_farmy\\analiza_polozenia_farmy.gdb\\PTLZ.shp\")\n",
    "budynki_wszystkie = (R\"C:\\Users\\mplaciszewska\\Documents\\ArcGIS\\Projects\\analiza_polozenia_farmy\\analiza_polozenia_farmy\\analiza_polozenia_farmy.gdb\\BUBD\")\n",
    "bufor = (R\"C:\\Users\\mplaciszewska\\Documents\\ArcGIS\\Projects\\analiza_polozenia_farmy\\analiza_polozenia_farmy\\analiza_polozenia_farmy.gdb\\swieradow_zdroj_buffer\")\n",
    "raster_gmina = (R\"C:\\Users\\mplaciszewska\\Desktop\\studia\\geoinf_sem_5\\analizy_przestrzenne\\cw1\\input_data\\gmina\\raster_extracted.tif\")\n",
    "gmina = (R\"C:\\Users\\mplaciszewska\\Desktop\\studia\\geoinf_sem_5\\analizy_przestrzenne\\cw1\\input_data\\gmina\\swieradow_zdroj.shp\")\n",
    "linie_energ = (R\"C:\\Users\\mplaciszewska\\Documents\\ArcGIS\\Projects\\analiza_polozenia_farmy\\analiza_polozenia_farmy\\analiza_polozenia_farmy.gdb\\SULN.shp\")\n",
    "# warstwa z pokryciem terenu\n",
    "pokrycie = R\"C:\\Users\\mplaciszewska\\Desktop\\studia\\geoinf_sem_5\\analizy_przestrzenne\\cw1\\input_data\\pokrycie_terenu\\mapa_kosztow_BDOT10k_dane_archiwalne\\PT_merge_cliped.shp\"\n",
    "\n",
    "# działki \n",
    "dzialki = R\"C:\\Users\\mplaciszewska\\Desktop\\studia\\geoinf_sem_5\\analizy_przestrzenne\\cw1\\dzialki.shp\"\n",
    "arcpy.management.CheckGeometry(budynki_wszystkie, \"in_memory/geometry_issues\")\n"
   ]
  },
  {
   "cell_type": "code",
   "execution_count": 39,
   "metadata": {},
   "outputs": [
    {
     "name": "stdout",
     "output_type": "stream",
     "text": [
      "ok\n"
     ]
    }
   ],
   "source": [
    "#wyselekcjonowanie drog utwardzonych\n",
    "drogi = arcpy.management.SelectLayerByAttribute(drogi_wszystkie, \"NEW_SELECTION\", \"MATE_NAWIE IN ('beton','bruk', 'kostka kamienna', 'kostka prefabrykowana', 'masa bitumiczna', 'płyty betonowe')\", None)\n",
    "arcpy.management.CopyFeatures(drogi, f\"{output_folder}\\drogi_selected\", '', None, None, None)\n",
    "drogi_selected = 'drogi_selected'\n",
    "arcpy.SelectLayerByAttribute_management(drogi, \"CLEAR_SELECTION\")\n",
    "\n",
    "#wyselekcjonowanie budynkow mieszkalnych\n",
    "budynki = arcpy.management.SelectLayerByAttribute(budynki_wszystkie, \"NEW_SELECTION\", \"FOBUD IN ('budynki mieszkalne')\", None)\n",
    "arcpy.management.CopyFeatures(budynki, f\"{output_folder}\\budynki_selected\", '', None, None, None)\n",
    "budynki_selected = 'budynki_selected'\n",
    "arcpy.SelectLayerByAttribute_management(budynki, \"CLEAR_SELECTION\")\n",
    "print(\"ok\")"
   ]
  },
  {
   "cell_type": "code",
   "execution_count": 40,
   "metadata": {},
   "outputs": [],
   "source": [
    "distance_rzeki = arcpy.sa.EucDistance(rzeki, None, \"5\")\n",
    "distance_jeziora = arcpy.sa.EucDistance(jeziora, None, \"5\")\n",
    "distance_drogi = arcpy.sa.EucDistance(drogi_selected, None, \"5\")\n",
    "distance_budynki = arcpy.sa.EucDistance(budynki_selected, None, \"5\")\n",
    "distance_lasy = arcpy.sa.EucDistance(lasy, None, \"5\")\n",
    "\n",
    "# mapa odleglosci do kryterium z wezlami wykonana w QGiS:\n",
    "distance_wezly  = Raster(r\"C:\\Users\\mplaciszewska\\Desktop\\studia\\geoinf_sem_5\\analizy_przestrzenne\\cw1\\kryterium_wezly_komunikacyjne.tif\")"
   ]
  },
  {
   "cell_type": "markdown",
   "metadata": {},
   "source": [
    "## Realizacja kryteriów"
   ]
  },
  {
   "cell_type": "markdown",
   "metadata": {},
   "source": [
    "Kryterium 1 - odległość od rzek i zbiorników wodnych, jak najbliżej (nieprzekraczalna strefa ochronna 100m)"
   ]
  },
  {
   "cell_type": "code",
   "execution_count": 41,
   "metadata": {},
   "outputs": [],
   "source": [
    "#kryterium ostre dla strefy ochronnej 100m poprzez reklasyfikacje map odleglosci\n",
    "rzeki_ostre = arcpy.ddd.Reclassify(distance_rzeki, \"VALUE\", f\"0 100 0;100 {distance_rzeki.maximum} 1\")\n",
    "jeziora_ostre = arcpy.ddd.Reclassify(distance_jeziora, \"VALUE\", f\"0 100 0;100 {distance_jeziora.maximum} 1\")\n",
    "\n",
    "#połączenie kryteriów ostrych dla rzek i jezior\n",
    "wody_ostre = arcpy.sa.FuzzyOverlay([rzeki_ostre, jeziora_ostre], \"AND\")"
   ]
  },
  {
   "cell_type": "code",
   "execution_count": 42,
   "metadata": {},
   "outputs": [],
   "source": [
    "#kryterium rozmyte dla obszarów w odległości powyżej 100m\n",
    "rzeki_rozmyte = arcpy.sa.FuzzyMembership(distance_rzeki, arcpy.sa.FuzzyLinear(500, 200))\n",
    "jeziora_rozmyte = arcpy.sa.FuzzyMembership(distance_jeziora, arcpy.sa.FuzzyLinear(500, 200))\n",
    "\n",
    "#połączenie kryteriów rozmytych dla rzek i jezior\n",
    "wody_rozmyte = arcpy.sa.FuzzyOverlay([rzeki_rozmyte, jeziora_rozmyte], \"OR\")"
   ]
  },
  {
   "cell_type": "code",
   "execution_count": 43,
   "metadata": {},
   "outputs": [],
   "source": [
    "#połączenie kryterium ostrego i rozmytego dla wody\n",
    "kryterium_wody = arcpy.sa.FuzzyOverlay([wody_ostre, wody_rozmyte], 'AND')\n",
    "kryterium_wody.save(f\"{output_folder}\\kryterium_wody\")"
   ]
  },
  {
   "cell_type": "markdown",
   "metadata": {},
   "source": [
    "Kryterium 2 - dostęp do dróg utwardzonych, jak największe zagęszczenie "
   ]
  },
  {
   "cell_type": "code",
   "execution_count": 44,
   "metadata": {},
   "outputs": [],
   "source": [
    "# ocena przydatnosci pod wzgledem zageszczenia\n",
    "raster_zageszczenia = arcpy.sa.LineDensity(\n",
    "    in_polyline_features=drogi_selected,\n",
    "    population_field=\"NONE\",\n",
    "    cell_size=5,\n",
    "    search_radius=1000,\n",
    "    area_unit_scale_factor=\"SQUARE_METERS\"\n",
    ")\n",
    "arcpy.management.CalculateStatistics(raster_zageszczenia)\n",
    "\n",
    "max_value = raster_zageszczenia.maximum\n",
    "\n",
    "# przeskalowanie rastra zageszczenia do wartosci 0-1\n",
    "kryterium_drogi = arcpy.sa.RescaleByFunction(\n",
    "    in_raster=raster_zageszczenia,\n",
    "    transformation_function= f\"LINEAR 0 1,{max_value} 0 # {max_value} #\",\n",
    "    from_scale=0,\n",
    "    to_scale=1\n",
    ")\n",
    "\n",
    "kryterium_drogi.save(f\"{output_folder}\\kryterium_drogi\")\n"
   ]
  },
  {
   "cell_type": "markdown",
   "metadata": {},
   "source": [
    "Kryterium 3 - odległość od budynków mieszkalnych"
   ]
  },
  {
   "cell_type": "code",
   "execution_count": 46,
   "metadata": {},
   "outputs": [],
   "source": [
    "kryterium_budynki = arcpy.sa.FuzzyMembership(distance_budynki,  arcpy.sa.FuzzyLinear(150, 500))\n",
    "kryterium_budynki.save(f\"{output_folder}\\kryterium_budynki\")"
   ]
  },
  {
   "cell_type": "markdown",
   "metadata": {},
   "source": [
    "Kryterium 4 - pokrycie terenu, nie w lesie, powyżej 15m od lasu, optymalnie 100m od lasu "
   ]
  },
  {
   "cell_type": "code",
   "execution_count": 47,
   "metadata": {},
   "outputs": [],
   "source": [
    "kryterium_lasy = arcpy.sa.FuzzyMembership(distance_lasy, arcpy.sa.FuzzyLinear(15, 100))\n",
    "kryterium_lasy.save(f\"{output_folder}\\kryterium_lasy\")"
   ]
  },
  {
   "cell_type": "markdown",
   "metadata": {},
   "source": [
    "Kryterium 5 - nachylenie stoków, optymalnie płasko, maksymalnie 10%"
   ]
  },
  {
   "cell_type": "code",
   "execution_count": 50,
   "metadata": {},
   "outputs": [],
   "source": [
    "#stworzenie warstwy z nachyleniami stoków narzędziem Slope\n",
    "spadki_output = f\"{output_folder}\\spadki\"\n",
    "spadki = arcpy.ddd.Slope(raster_gmina, spadki_output, \"PERCENT_RISE\", 1)\n",
    "\n",
    "kryterium_spadki = arcpy.sa.FuzzyMembership(spadki, arcpy.sa.FuzzyLinear(10, 3))\n",
    "kryterium_spadki.save(f\"{output_folder}\\kryterium_spadki\")"
   ]
  },
  {
   "cell_type": "markdown",
   "metadata": {},
   "source": [
    "Kryterium 6 - nasłonecznienie, optymalnie stoki południowe (SW-SE)"
   ]
  },
  {
   "cell_type": "code",
   "execution_count": 51,
   "metadata": {},
   "outputs": [],
   "source": [
    "#stworzenie warstwy ze stokami narzędziem Aspect\n",
    "stoki_output = f\"{output_folder}\\stoki\"\n",
    "stoki = arcpy.ddd.Aspect(raster_gmina, stoki_output)\n",
    "\n",
    "# rozdzielenie kryterium rozmytego na rosnący i malejący\n",
    "stoki_ES = arcpy.sa.FuzzyMembership(stoki, arcpy.sa.FuzzyLinear(90, 113))\n",
    "stoki_WS = arcpy.sa.FuzzyMembership(stoki, arcpy.sa.FuzzyLinear(270, 248))\n",
    "\n",
    "# ustawienie przydatności płaskich stoków na 1\n",
    "plaskie_stoki = arcpy.sa.Con(stoki, 1, 0, \"VALUE = -1\") \n",
    "\n",
    "stoki_rozmyte = arcpy.sa.FuzzyOverlay([stoki_ES, stoki_WS], 'AND')\n",
    "kryterium_stoki = arcpy.sa.FuzzyOverlay([stoki_rozmyte, plaskie_stoki], 'OR')\n",
    "\n",
    "kryterium_stoki.save(f\"{output_folder}\\kryterium_stoki\")"
   ]
  },
  {
   "cell_type": "markdown",
   "metadata": {},
   "source": [
    "Kryterium 7 - dobry dojazd od istotnych drogowych węzłów komunikacyjnych"
   ]
  },
  {
   "cell_type": "code",
   "execution_count": 52,
   "metadata": {},
   "outputs": [
    {
     "data": {
      "text/plain": [
       "<arcpy._mp.Layer object at 0x000002698F1CAB20>"
      ]
     },
     "execution_count": 52,
     "metadata": {},
     "output_type": "execute_result"
    }
   ],
   "source": [
    "kryterium_wezly = arcpy.sa.FuzzyMembership(distance_wezly, arcpy.sa.FuzzyLinear(distance_wezly.maximum, 300))\n",
    "kryterium_wezly.save(f\"{output_folder}\\kryterium_wezly\")\n",
    "m.addDataFromPath(f\"{output_folder}\\kryterium_wezly\")"
   ]
  },
  {
   "cell_type": "markdown",
   "metadata": {},
   "source": [
    "## Połączenie kryteriów"
   ]
  },
  {
   "cell_type": "code",
   "execution_count": 53,
   "metadata": {},
   "outputs": [
    {
     "name": "stdout",
     "output_type": "stream",
     "text": [
      "ok\n"
     ]
    }
   ],
   "source": [
    "# połączenie kryteriów stosując równe wagi dla kryteriów\n",
    "rowna_waga = 1/7\n",
    "kryteria_rowne = arcpy.sa.WSTable(\n",
    "    [\n",
    "        [kryterium_budynki, \"VALUE\", rowna_waga],\n",
    "        [kryterium_drogi, \"VALUE\", rowna_waga],\n",
    "        [kryterium_lasy, \"VALUE\", rowna_waga],\n",
    "        [kryterium_spadki, \"VALUE\", rowna_waga],\n",
    "        [kryterium_stoki, \"VALUE\", rowna_waga],\n",
    "        [kryterium_wody, \"VALUE\", rowna_waga],\n",
    "        [kryterium_wezly, \"VALUE\", rowna_waga],\n",
    "    ]\n",
    ")\n",
    "polaczone_kryteria_rowne = arcpy.sa.WeightedSum(kryteria_rowne)\n",
    "polaczone_kryteria_rowne.save(f\"{output_folder}\\polaczone_kryteria_rowne\")\n",
    "\n",
    "# połączenie kryteriów stosując różne wagi dla kryteriów metodą AHP : https://bpmsg.com/ahp/ahp-calc.php?n=7&t=AHP+priorities&c[0]=odleglosc+od+wod&c[1]=odleglosc+od+lasow&c[2]=odl+bud&c[3]=drogi&c[4]=spadki&c[5]=naslonecznienie&c[6]=wezly\n",
    "kryteria_rozne = arcpy.sa.WSTable(\n",
    "    [\n",
    "        [kryterium_budynki, \"VALUE\", 0.120244],\n",
    "        [kryterium_drogi, \"VALUE\", 0.051404],\n",
    "        [kryterium_lasy, \"VALUE\", 0.248666],\n",
    "        [kryterium_spadki, \"VALUE\", 0.187234],\n",
    "        [kryterium_stoki, \"VALUE\", 0.163683],\n",
    "        [kryterium_wody, \"VALUE\", 0.207279],\n",
    "        [kryterium_wezly, \"VALUE\", 0.021489],\n",
    "    ]\n",
    ")\n",
    "polaczone_kryteria_rozne = arcpy.sa.WeightedSum(kryteria_rozne)\n",
    "polaczone_kryteria_rozne.save(f\"{output_folder}\\polaczone_kryteria_rozne\")\n",
    "print(\"ok\")\n"
   ]
  },
  {
   "cell_type": "markdown",
   "metadata": {},
   "source": [
    "## Uwzględnienie kryteriów ostrych do map przydatności (nieprzekraczalne strefy w kryterium wody, budynków i lasów)"
   ]
  },
  {
   "cell_type": "code",
   "execution_count": 55,
   "metadata": {},
   "outputs": [],
   "source": [
    "# budynki ostre:\n",
    "budynki_ostre = arcpy.ddd.Reclassify(distance_budynki, \"VALUE\", f\"0 150 0; 150 {distance_budynki.maximum} 1\")\n",
    "\n",
    "# lasy ostre:\n",
    "lasy_ostre = arcpy.ddd.Reclassify(distance_lasy, \"VALUE\", f\"0 15 0; 15 {distance_lasy.maximum} 1\")\n",
    "\n",
    "def times(in_raster1, in_raster2):\n",
    "    out_raster = arcpy.ia.Times(\n",
    "        in_raster_or_constant1=in_raster1,\n",
    "        in_raster_or_constant2=in_raster2\n",
    "    )\n",
    "    return out_raster\n",
    "\n",
    "# przemnożenie mapy przydatności przez kryteria ostre:\n",
    "def polacz_ostre(polaczone_kryteria):\n",
    "    mapa_przydatnosci1 = times(polaczone_kryteria, wody_ostre)\n",
    "    mapa_przydatnosci2 = times(mapa_przydatnosci1, budynki_ostre)\n",
    "    mapa_przydatnosci = times(mapa_przydatnosci2, lasy_ostre)\n",
    "\n",
    "    return mapa_przydatnosci\n",
    "\n",
    "mapa_przydatnosci_rowne = polacz_ostre(polaczone_kryteria_rowne)\n",
    "mapa_przydatnosci_rozne = polacz_ostre(polaczone_kryteria_rozne)\n",
    "\n",
    "mapa_przydatnosci_rowne.save(f\"{output_folder}\\mapa_przydatnosci_rowne\")\n",
    "# m.addDataFromPath(R\"C:\\Users\\mplaciszewska\\Documents\\ArcGIS\\Projects\\projekt1-analizyp\\projekt1-analizyp.gdb\\mapa_przydatnosci_rowne\")\n",
    "mapa_przydatnosci_rozne.save(f\"{output_folder}\\mapa_przydatnosci_rozne\")\n",
    "# m.addDataFromPath(R\"C:\\Users\\mplaciszewska\\Documents\\ArcGIS\\Projects\\projekt1-analizyp\\projekt1-analizyp.gdb\\mapa_przydatnosci_rozne\")"
   ]
  },
  {
   "cell_type": "markdown",
   "metadata": {},
   "source": [
    "## Reklasyfikacja map przydatnosci w celu wyodrębnienia obszarów o 80% przydatności"
   ]
  },
  {
   "cell_type": "code",
   "execution_count": 56,
   "metadata": {},
   "outputs": [],
   "source": [
    "def reklasyfikuj_mape(mapa_przydatnosci):\n",
    "    granica = 70/100 * mapa_przydatnosci.maximum\n",
    "    mapa_reclass = arcpy.sa.Reclassify(mapa_przydatnosci, \"VALUE\", f\"0 {granica} 0; {granica} {mapa_przydatnosci.maximum} 1\")\n",
    "    return mapa_reclass\n",
    "\n",
    "# wyciecie jedynie do obszaru gminy (bez bufora)\n",
    "mapa_przydatnosci_rowne = arcpy.sa.ExtractByMask(\n",
    "    in_raster=mapa_przydatnosci_rowne,\n",
    "    in_mask_data=gmina,\n",
    "    extraction_area=\"INSIDE\"\n",
    ")\n",
    "\n",
    "mapa_przydatnosci_rozne = arcpy.sa.ExtractByMask(\n",
    "    in_raster=mapa_przydatnosci_rozne,\n",
    "    in_mask_data=gmina,\n",
    "    extraction_area=\"INSIDE\"\n",
    ")\n",
    "\n",
    "mapa_przydatnosci_reclass_rowne = reklasyfikuj_mape(mapa_przydatnosci_rowne)\n",
    "mapa_przydatnosci_reclass_rozne = reklasyfikuj_mape(mapa_przydatnosci_rozne)\n",
    "mapa_przydatnosci_reclass_rowne.save(f\"{output_folder}\\mapa_przydatnosci_reclass_rowne\")\n",
    "# m.addDataFromPath(R\"C:\\Users\\mplaciszewska\\Documents\\ArcGIS\\Projects\\projekt1-analizyp\\projekt1-analizyp.gdb\\mapa_przydatnosci_reclass_rowne\")\n",
    "mapa_przydatnosci_reclass_rozne.save(f\"{output_folder}\\mapa_przydatnosci_reclass_rozne\")\n",
    "# m.addDataFromPath(R\"C:\\Users\\mplaciszewska\\Documents\\ArcGIS\\Projects\\projekt1-analizyp\\projekt1-analizyp.gdb\\mapa_przydatnosci_reclass_rozne\")"
   ]
  },
  {
   "cell_type": "markdown",
   "metadata": {},
   "source": [
    "## Obliczenie jaka część działki stanowi obszar przydatny pod lokalizację inwestycji"
   ]
  },
  {
   "cell_type": "code",
   "execution_count": 57,
   "metadata": {},
   "outputs": [
    {
     "data": {
      "text/plain": [
       "<arcpy._mp.Layer object at 0x000002698F14BA00>"
      ]
     },
     "execution_count": 57,
     "metadata": {},
     "output_type": "execute_result"
    }
   ],
   "source": [
    "# przekształcenie map przydatności do postaci wektorowej\n",
    "out_polygon_features = r\"C:\\Users\\mplaciszewska\\Documents\\ArcGIS\\Projects\\projekt1-analizyp\\projekt1-analizyp.gdb\\mapa_przydatnosci_wektor\"\n",
    "\n",
    "def oblicz_przydatnosc_dzialki(mapa_przydatnosci, out_str):\n",
    "    mapa_przydatnosci_wektor = f\"{output_folder}\\mapa_przydatnosci_wektor\"\n",
    "    with arcpy.EnvManager(outputZFlag=\"Disabled\", outputMFlag=\"Disabled\"):\n",
    "        arcpy.conversion.RasterToPolygon(\n",
    "            in_raster=mapa_przydatnosci,\n",
    "            out_polygon_features=mapa_przydatnosci_wektor,\n",
    "            simplify=\"SIMPLIFY\",\n",
    "            raster_field=\"Value\",\n",
    "            create_multipart_features=\"SINGLE_OUTER_PART\",\n",
    "            max_vertices_per_feature=None\n",
    "        )\n",
    "\n",
    "    # Intersect aby przyciąć poligony przydatności do działek:\n",
    "    przydatnosc_dzialki_przeciecie = arcpy.analysis.Intersect(\n",
    "        in_features=[mapa_przydatnosci_wektor, dzialki],\n",
    "        out_feature_class=f\"{output_folder}\\przydatnosc_dzialki_przeciecie\",\n",
    "        join_attributes=\"ALL\",\n",
    "        cluster_tolerance=None,\n",
    "        output_type=\"INPUT\"\n",
    "    )\n",
    "\n",
    "    # Selekcja tylko przydatnych poligonów \n",
    "    przydatne_poligony = arcpy.management.MakeFeatureLayer(\n",
    "        in_features=przydatnosc_dzialki_przeciecie,\n",
    "        out_layer=f\"{output_folder}\\przydatne_poligony\",\n",
    "        where_clause=\"gridcode = 1\",\n",
    "        workspace=None,\n",
    "    )\n",
    "\n",
    "    # Zliczenie jaka część działki jest pokryta przydatnymi obszarami\n",
    "    przydatnosc_dzialki_pole = arcpy.analysis.SummarizeWithin(\n",
    "        in_polygons=dzialki,  # Warstwa działek\n",
    "        in_sum_features=przydatne_poligony,  # Poligony przydatne (gridcode = 1)\n",
    "        out_feature_class=f\"{output_folder}\\przydatnosc_dzialki_pole_{out_str}\",\n",
    "        keep_all_polygons=\"ONLY_INTERSECTING\",  \n",
    "        sum_fields=\"Shape_Area Sum\", \n",
    "        shape_unit=\"SQUAREMETERS\"\n",
    "    )\n",
    "    \n",
    "    # dodanie atrybutu o % przydatności działki\n",
    "    arcpy.management.CalculateField(\n",
    "        in_table=przydatnosc_dzialki_pole,\n",
    "        field=\"Procent_powierzchni_przydatnej\",\n",
    "        field_type = \"DOUBLE\",\n",
    "        expression=\"(!SUM_Shape_Area! / !Shape_Area!) * 100\",\n",
    "        expression_type=\"PYTHON3\"\n",
    "    )\n",
    "    \n",
    "    return przydatnosc_dzialki_pole\n",
    "\n",
    "przydatnosc_dzialki_rowne = oblicz_przydatnosc_dzialki(mapa_przydatnosci_reclass_rowne, \"rowne\")\n",
    "m.addDataFromPath(f\"{output_folder}\\przydatnosc_dzialki_pole_rowne\")\n",
    "\n",
    "przydatnosc_dzialki_rozne = oblicz_przydatnosc_dzialki(mapa_przydatnosci_reclass_rozne, \"rozne\")\n",
    "m.addDataFromPath(f\"{output_folder}\\przydatnosc_dzialki_pole_rozne\")"
   ]
  },
  {
   "cell_type": "markdown",
   "metadata": {},
   "source": [
    "## Wybranie działek spełniających kryteria - min 70% przydatności"
   ]
  },
  {
   "cell_type": "code",
   "execution_count": 58,
   "metadata": {},
   "outputs": [
    {
     "data": {
      "text/plain": [
       "<arcpy._mp.Layer object at 0x000002698F14BA00>"
      ]
     },
     "execution_count": 58,
     "metadata": {},
     "output_type": "execute_result"
    }
   ],
   "source": [
    "# Selekcja działek o min. 70% przydatności:\n",
    "def selekcja_przydatnych_dzialek(przydatnosc_dzialki, out_str):\n",
    "    przydatne_dzialki = arcpy.management.SelectLayerByAttribute(przydatnosc_dzialki, \"NEW_SELECTION\", '\"Procent_powierzchni_przydatnej\" > 60', None)\n",
    "    arcpy.management.CopyFeatures(przydatne_dzialki, f\"{output_folder}\\przydatne_dzialki_{out_str}\", '', None, None, None)\n",
    "    przydatne_dzialki_selected = 'przydatne_dzialki_selected'\n",
    "    \n",
    "    # Połączenie sąsiadujących działek w jeden obiekt\n",
    "    polaczone_dzialki = arcpy.management.Dissolve(\n",
    "        in_features=przydatne_dzialki,\n",
    "        out_feature_class=f\"{output_folder}\\polaczone_dzialki_{out_str}\",\n",
    "        dissolve_field=None,\n",
    "        statistics_fields=\"Shape_Area SUM\",\n",
    "        multi_part=\"SINGLE_PART\",\n",
    "        unsplit_lines=\"UNSPLIT_LINES\",\n",
    "        concatenation_separator=\"\"\n",
    "    )\n",
    "    \n",
    "    arcpy.SelectLayerByAttribute_management(przydatne_dzialki, \"CLEAR_SELECTION\")\n",
    "    return polaczone_dzialki\n",
    "\n",
    "polaczone_dzialki_rowne = selekcja_przydatnych_dzialek(przydatnosc_dzialki_rowne, \"rowne\")\n",
    "polaczone_dzialki_rozne = selekcja_przydatnych_dzialek(przydatnosc_dzialki_rozne, \"rozne\")"
   ]
  },
  {
   "cell_type": "markdown",
   "metadata": {},
   "source": [
    "## Wybranie działek spełniających kryterium powierzchni i szerokości (min 2ha i 50m)"
   ]
  },
  {
   "cell_type": "code",
   "execution_count": 60,
   "metadata": {},
   "outputs": [
    {
     "data": {
      "text/plain": [
       "<arcpy._mp.Layer object at 0x000002698F3796A0>"
      ]
     },
     "execution_count": 60,
     "metadata": {},
     "output_type": "execute_result"
    }
   ],
   "source": [
    "def dodaj_szerokosc(polaczone_dzialki, sciezka_wyjscia):\n",
    "    # utworzenie prostokątów ograniczających wokół działek \n",
    "    prostokaty_ograniczajace = arcpy.management.MinimumBoundingGeometry(\n",
    "        polaczone_dzialki, \n",
    "        sciezka_wyjscia,\n",
    "        \"RECTANGLE_BY_WIDTH\")\n",
    "\n",
    "    arcpy.management.AddField(\n",
    "        prostokaty_ograniczajace,\n",
    "        field_name=\"Width\",\n",
    "        field_type=\"DOUBLE\",\n",
    "    )\n",
    "\n",
    "    arcpy.topographic.CalculateMetrics(\n",
    "        in_features=prostokaty_ograniczajace,\n",
    "        in_metric_types=\"WIDTH\",\n",
    "        in_length_attributes=\"Shape_Length\",\n",
    "        in_width_attributes=\"Width\",\n",
    "        in_area_attributes=\"Shape_Area\",\n",
    "    )\n",
    "\n",
    "    # Wykonanie Join, aby przekazać atrybut szerokości do działek\n",
    "    fields = arcpy.ListFields(polaczone_dzialki)\n",
    "    for field in fields:\n",
    "        if field.name == \"Width\":\n",
    "            arcpy.management.DeleteField(polaczone_dzialki, \"Width\")\n",
    "\n",
    "    arcpy.management.JoinField(\n",
    "        in_data=polaczone_dzialki,         \n",
    "        in_field=\"OBJECTID\",                      \n",
    "        join_table=prostokaty_ograniczajace,      \n",
    "        join_field=\"OBJECTID\",                   \n",
    "        fields=[\"Width\"],                  \n",
    "    )\n",
    "    return polaczone_dzialki\n",
    "\n",
    "polaczone_dzialki_rowne = f\"{output_folder}\\polaczone_dzialki_rowne\"\n",
    "sciezka_wyjscia_rowne = f\"{output_folder}\\polaczone_dzialki_rowne_prostokaty\"\n",
    "\n",
    "polaczone_dzialki_rozne = f\"{output_folder}\\polaczone_dzialki_rozne\"\n",
    "sciezka_wyjscia_rozne = f\"{output_folder}\\polaczone_dzialki_rozne_prostokaty\"\n",
    "\n",
    "dodaj_szerokosc(polaczone_dzialki_rowne, sciezka_wyjscia_rowne)\n",
    "dodaj_szerokosc(polaczone_dzialki_rozne, sciezka_wyjscia_rozne)\n",
    "m.addDataFromPath(f\"{output_folder}\\polaczone_dzialki_rowne\")\n",
    "m.addDataFromPath(f\"{output_folder}\\polaczone_dzialki_rozne\")\n"
   ]
  },
  {
   "cell_type": "code",
   "execution_count": 61,
   "metadata": {},
   "outputs": [
    {
     "data": {
      "text/plain": [
       "<arcpy._mp.Layer object at 0x000002698F3B7D60>"
      ]
     },
     "execution_count": 61,
     "metadata": {},
     "output_type": "execute_result"
    }
   ],
   "source": [
    "# selekcja działek:\n",
    "dzialki_rowne_copy = arcpy.management.MakeFeatureLayer(\n",
    "    in_features=polaczone_dzialki_rowne,\n",
    "    out_layer=f\"{output_folder}\\dzialki_rowne_copy\",\n",
    "    where_clause='\"Shape_Area\" >= 20000 AND \"Width\" >= 50',\n",
    ")\n",
    "\n",
    "dzialki_rowne = arcpy.management.CopyFeatures(\n",
    "    in_features=dzialki_rowne_copy,  \n",
    "    out_feature_class=f\"{output_folder}\\dzialki_rowne\"\n",
    ")\n",
    "\n",
    "dzialki_rozne_copy = arcpy.management.MakeFeatureLayer(\n",
    "    in_features=polaczone_dzialki_rozne,\n",
    "    out_layer=f\"{output_folder}\\dzialki_rozne_copy\",\n",
    "    where_clause='\"Shape_Area\" >= 20000 AND \"Width\" >= 50',\n",
    ")\n",
    "\n",
    "dzialki_rozne = arcpy.management.CopyFeatures(\n",
    "    in_features=dzialki_rozne_copy,  \n",
    "    out_feature_class=f\"{output_folder}\\dzialki_rozne\"\n",
    ")\n",
    "\n",
    "m.addDataFromPath(f\"{output_folder}\\dzialki_rowne\")\n",
    "m.addDataFromPath(f\"{output_folder}\\dzialki_rozne\")"
   ]
  },
  {
   "cell_type": "markdown",
   "metadata": {},
   "source": [
    "## Utworzenie mapy kosztów"
   ]
  },
  {
   "cell_type": "code",
   "execution_count": 76,
   "metadata": {},
   "outputs": [],
   "source": [
    "# Konwersja warstwy wektorowej do rastra po wartości atrybutu X_KOD\n",
    "raster_pokrycia = arcpy.conversion.FeatureToRaster(\n",
    "    in_features= pokrycie,\n",
    "    field=\"X_KOD\",\n",
    "    out_raster=\"raster_pokrycia\",\n",
    "    cell_size=5\n",
    ")\n",
    "\n",
    "# Reklasyfikacja w celu przypisania kosztów dla różnych wartości X_KOD\n",
    "raster_kosztow = arcpy.ddd.Reclassify(\n",
    "    in_raster=raster_pokrycia,\n",
    "    reclass_field=\"X_KOD\",\n",
    "    remap=\"PTZB01 200;PTZB02 100;PTZB05 50;PTZB03 200;PTZB04 200;PTWZ01 NODATA;PTWP02 200;PTWP03 NODATA;PTUT03 100;PTUT01 NODATA;PTTR02 1;PTTR01 20;PTPL01 50;PTNZ01 150;PTNZ02 150;PTLZ01 100;PTLZ03 50;PTLZ02 50;PTKM01 100;PTWP01 NODATA;PTRK01 15;PTRK02 15;PTUT02 90;PTUT04 20;PTUT05 20;PTKM02 200;PTKM03 200;PTKM04 NODATA;PTGN01 1;PTGN02 1;PTGN03 1;PTGN04 1;PTSO01 NODATA;PTSO02 NODATA;PTWZ02 NODATA\",\n",
    "    out_raster=\"raster_kosztow\",\n",
    "    missing_values=\"NODATA\"\n",
    ")"
   ]
  },
  {
   "cell_type": "code",
   "execution_count": 80,
   "metadata": {},
   "outputs": [],
   "source": [
    "\n",
    "with arcpy.da.SearchCursor(dzialki_rowne,['SHAPE@', 'OBJECTID']) as cursor:\n",
    "    for row in cursor:\n",
    "        geometry = row[0]\n",
    "        object_id = row[1]\n",
    "        \n",
    "        warstwa = f\"in_memory\\\\dzialka{object_id}_rowne\"\n",
    "        arcpy.management.CopyFeatures([geometry], warstwa)\n",
    "            \n",
    "        # Zapisanie warstwy jako pliku w folderze wyjściowym\n",
    "        sciezka_wyjsciowa = (f\"{output_folder}\\dzialka_{object_id}_rowne\")\n",
    "        dzialka = arcpy.management.CopyFeatures(warstwa, sciezka_wyjsciowa)\n",
    "        \n",
    "        mapa_kosztow = arcpy.sa.CostDistance(\n",
    "            in_source_data=dzialka,\n",
    "            in_cost_raster=raster_kosztow,\n",
    "            maximum_distance=None,\n",
    "            out_backlink_raster=f\"{output_folder}\\mapa_kierunkow_{object_id}_rowne\"\n",
    "        )\n",
    "        mapa_kosztow.save(f\"{output_folder}\\mapa_kosztow_{object_id}_rowne\")\n",
    "\n",
    "        mapa_kierunkow = f\"{output_folder}\\mapa_kierunkow_{object_id}_rowne\"\n",
    "\n",
    "#         m.addDataFromPath(f\"{output_folder}\\mapa_kierunkow_wszystkie_rowne\")\n",
    "#         m.addDataFromPath(f\"{output_folder}\\mapa_kosztow_wszystkie_rowne\")\n",
    "\n",
    "        out_raster = arcpy.sa.CostPath(\n",
    "            in_destination_data=linie_energ,\n",
    "            in_cost_distance_raster=mapa_kosztow,\n",
    "            in_cost_backlink_raster=mapa_kierunkow,\n",
    "            path_type=\"BEST_SINGLE\",\n",
    "            destination_field=\"OBJECTID\",\n",
    "            force_flow_direction_convention=\"INPUT_RANGE\"\n",
    "        )\n",
    "\n",
    "        # Zapisanie wyniku\n",
    "        out_raster.save(f\"{output_folder}\\cost_path_{object_id}_rowne\")\n",
    "        m.addDataFromPath(f\"{output_folder}\\cost_path_{object_id}_rowne\")"
   ]
  },
  {
   "cell_type": "code",
   "execution_count": null,
   "metadata": {},
   "outputs": [],
   "source": []
  }
 ],
 "metadata": {
  "kernelspec": {
   "display_name": "ArcGISPro",
   "language": "Python",
   "name": "python3"
  },
  "language_info": {
   "file_extension": ".py",
   "name": "python",
   "version": "3"
  }
 },
 "nbformat": 4,
 "nbformat_minor": 2
}
