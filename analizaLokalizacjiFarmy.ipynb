{
 "cells": [
  {
   "cell_type": "markdown",
   "metadata": {},
   "source": [
    "## Ustawienia środowiska projektu"
   ]
  },
  {
   "cell_type": "code",
   "execution_count": 1,
   "metadata": {},
   "outputs": [],
   "source": [
    "import arcpy\n",
    "#https://app.diagrams.net/\n",
    "\n",
    "output_folder = R\"C:\\Users\\mplaciszewska\\Documents\\ArcGIS\\Projects\\analiza_polozenia_farmy\\analiza_polozenia_farmy\\analiza_polozenia_farmy.gdb\"\n",
    "\n",
    "arcpy.env.workspace = R\"C:\\Users\\mplaciszewska\\Documents\\ArcGIS\\Projects\\analiza_polozenia_farmy\\analiza_polozenia_farmy\\analiza_polozenia_farmy.gdb\"\n",
    "arcpy.env.outputCoordinateSystem = arcpy.SpatialReference(\"ETRS 1989 Poland CS92\")\n",
    "arcpy.env.overwriteOutput = True\n",
    "arcpy.env.extent = (R\"C:\\Users\\mplaciszewska\\Documents\\ArcGIS\\Projects\\analiza_polozenia_farmy\\analiza_polozenia_farmy\\analiza_polozenia_farmy.gdb\\swieradow_zdroj_buffer\")\n",
    "arcpy.env.mask = (R\"C:\\Users\\mplaciszewska\\Documents\\ArcGIS\\Projects\\analiza_polozenia_farmy\\analiza_polozenia_farmy\\analiza_polozenia_farmy.gdb\\swieradow_zdroj_buffer\")\n",
    "arcpy.env.cellSize = (R\"C:\\Users\\mplaciszewska\\Desktop\\studia\\geoinf_sem_5\\analizy_przestrzenne\\cw1\\input_data\\gmina\\raster_extracted.tif\")\n",
    "\n",
    "aprx = arcpy.mp.ArcGISProject(\"CURRENT\") \n",
    "m = aprx.activeMap\n",
    "\n",
    "# wylaczenie dodawania warstw\n",
    "arcpy.env.addOutputsToMap = False"
   ]
  },
  {
   "cell_type": "markdown",
   "metadata": {},
   "source": [
    "## Wczytanie warstw wejściowych "
   ]
  },
  {
   "cell_type": "code",
   "execution_count": 2,
   "metadata": {},
   "outputs": [],
   "source": [
    "drogi_wszystkie = (R\"C:\\Users\\mplaciszewska\\Documents\\ArcGIS\\Projects\\analiza_polozenia_farmy\\analiza_polozenia_farmy\\analiza_polozenia_farmy.gdb\\SKDR.shp\")\n",
    "rzeki = (R\"C:\\Users\\mplaciszewska\\Documents\\ArcGIS\\Projects\\analiza_polozenia_farmy\\analiza_polozenia_farmy\\analiza_polozenia_farmy.gdb\\SWRS.shp\")\n",
    "jeziora = (R\"C:\\Users\\mplaciszewska\\Documents\\ArcGIS\\Projects\\analiza_polozenia_farmy\\analiza_polozenia_farmy\\analiza_polozenia_farmy.gdb\\PTWP.shp\")\n",
    "lasy = (R\"C:\\Users\\mplaciszewska\\Documents\\ArcGIS\\Projects\\analiza_polozenia_farmy\\analiza_polozenia_farmy\\analiza_polozenia_farmy.gdb\\PTLZ.shp\")\n",
    "budynki_wszystkie = (R\"C:\\Users\\mplaciszewska\\Documents\\ArcGIS\\Projects\\analiza_polozenia_farmy\\analiza_polozenia_farmy\\analiza_polozenia_farmy.gdb\\BUBD\")\n",
    "bufor = (R\"C:\\Users\\mplaciszewska\\Documents\\ArcGIS\\Projects\\analiza_polozenia_farmy\\analiza_polozenia_farmy\\analiza_polozenia_farmy.gdb\\swieradow_zdroj_buffer\")\n",
    "raster_gmina = (R\"C:\\Users\\mplaciszewska\\Desktop\\studia\\geoinf_sem_5\\analizy_przestrzenne\\cw1\\input_data\\gmina\\raster_extracted.tif\")\n",
    "gmina = (R\"C:\\Users\\mplaciszewska\\Desktop\\studia\\geoinf_sem_5\\analizy_przestrzenne\\cw1\\input_data\\gmina\\swieradow_zdroj.shp\")\n",
    "linie_energ = (R\"C:\\Users\\mplaciszewska\\Documents\\ArcGIS\\Projects\\analiza_polozenia_farmy\\analiza_polozenia_farmy\\analiza_polozenia_farmy.gdb\\SULN.shp\")\n",
    "# warstwa z pokryciem terenu\n",
    "pokrycie = R\"C:\\Users\\mplaciszewska\\Desktop\\studia\\geoinf_sem_5\\analizy_przestrzenne\\cw1\\input_data\\pokrycie_terenu\\mapa_kosztow_BDOT10k_dane_archiwalne\\PT_merge_cliped.shp\"\n",
    "\n",
    "# działki \n",
    "dzialki = R\"C:\\Users\\mplaciszewska\\Desktop\\studia\\geoinf_sem_5\\analizy_przestrzenne\\cw1\\dzialki.shp\"\n"
   ]
  },
  {
   "cell_type": "markdown",
   "metadata": {},
   "source": [
    "## Selekcja po atrybutach warstwy dróg i budynków"
   ]
  },
  {
   "cell_type": "code",
   "execution_count": 3,
   "metadata": {},
   "outputs": [
    {
     "data": {
      "text/html": [
       "<div class='gpresult'><h2>Messages</h2><div id='messages' data-messages='[\"Start Time: środa, 1 stycznia 2025 17:59:54\",\"Succeeded at środa, 1 stycznia 2025 17:59:54 (Elapsed Time: 0,43 seconds)\"]' data-show='true'><div id = 'default' /></div></div>"
      ],
      "text/plain": [
       "<Result 'BUBD_Layer1'>"
      ]
     },
     "execution_count": 3,
     "metadata": {},
     "output_type": "execute_result"
    }
   ],
   "source": [
    "# Wyselekcjonowanie drog utwardzonych\n",
    "drogi = arcpy.management.SelectLayerByAttribute(drogi_wszystkie, \"NEW_SELECTION\", \"MATE_NAWIE IN ('beton','bruk', 'kostka kamienna', 'kostka prefabrykowana', 'masa bitumiczna', 'płyty betonowe')\", None)\n",
    "arcpy.management.CopyFeatures(drogi, f\"{output_folder}\\drogi_selected\", '', None, None, None)\n",
    "drogi_selected = 'drogi_selected'\n",
    "arcpy.SelectLayerByAttribute_management(drogi, \"CLEAR_SELECTION\")\n",
    "\n",
    "# Wyselekcjonowanie budynkow mieszkalnych\n",
    "budynki = arcpy.management.SelectLayerByAttribute(budynki_wszystkie, \"NEW_SELECTION\", \"FOBUD IN ('budynki mieszkalne')\", None)\n",
    "arcpy.management.CopyFeatures(budynki, f\"{output_folder}\\budynki_selected\", '', None, None, None)\n",
    "budynki_selected = 'budynki_selected'\n",
    "arcpy.SelectLayerByAttribute_management(budynki, \"CLEAR_SELECTION\")"
   ]
  },
  {
   "cell_type": "markdown",
   "metadata": {},
   "source": [
    "## Utworzenie map odległości "
   ]
  },
  {
   "cell_type": "code",
   "execution_count": 4,
   "metadata": {},
   "outputs": [],
   "source": [
    "distance_rzeki = arcpy.sa.EucDistance(rzeki, None, \"5\")\n",
    "distance_jeziora = arcpy.sa.EucDistance(jeziora, None, \"5\")\n",
    "distance_drogi = arcpy.sa.EucDistance(drogi_selected, None, \"5\")\n",
    "distance_budynki = arcpy.sa.EucDistance(budynki_selected, None, \"5\")\n",
    "distance_lasy = arcpy.sa.EucDistance(lasy, None, \"5\")\n",
    "\n",
    "# mapa odleglosci do kryterium z wezlami wykonana w QGiS:\n",
    "distance_wezly  = arcpy.Raster(r\"C:\\Users\\mplaciszewska\\Desktop\\studia\\geoinf_sem_5\\analizy_przestrzenne\\cw1\\kryterium_wezly_komunikacyjne.tif\")"
   ]
  },
  {
   "cell_type": "markdown",
   "metadata": {},
   "source": [
    "## Realizacja kryteriów"
   ]
  },
  {
   "cell_type": "markdown",
   "metadata": {},
   "source": [
    "Kryterium 1 - odległość od rzek i zbiorników wodnych, jak najbliżej (nieprzekraczalna strefa ochronna 100m)"
   ]
  },
  {
   "cell_type": "code",
   "execution_count": 5,
   "metadata": {},
   "outputs": [],
   "source": [
    "# kryterium ostre dla strefy ochronnej 100m poprzez reklasyfikacje map odleglosci\n",
    "rzeki_ostre = arcpy.ddd.Reclassify(distance_rzeki, \"VALUE\", f\"0 100 0;100 {distance_rzeki.maximum} 1\")\n",
    "jeziora_ostre = arcpy.ddd.Reclassify(distance_jeziora, \"VALUE\", f\"0 100 0;100 {distance_jeziora.maximum} 1\")\n",
    "\n",
    "# połączenie kryteriów ostrych dla rzek i jezior\n",
    "wody_ostre = arcpy.sa.FuzzyOverlay([rzeki_ostre, jeziora_ostre], \"AND\")"
   ]
  },
  {
   "cell_type": "code",
   "execution_count": 6,
   "metadata": {},
   "outputs": [],
   "source": [
    "# kryterium rozmyte dla obszarów w odległości powyżej 100m\n",
    "rzeki_rozmyte = arcpy.sa.FuzzyMembership(distance_rzeki, arcpy.sa.FuzzyLinear(500, 200))\n",
    "jeziora_rozmyte = arcpy.sa.FuzzyMembership(distance_jeziora, arcpy.sa.FuzzyLinear(500, 200))\n",
    "\n",
    "#połączenie kryteriów rozmytych dla rzek i jezior\n",
    "wody_rozmyte = arcpy.sa.FuzzyOverlay([rzeki_rozmyte, jeziora_rozmyte], \"OR\")"
   ]
  },
  {
   "cell_type": "code",
   "execution_count": 7,
   "metadata": {},
   "outputs": [
    {
     "ename": "RuntimeError",
     "evalue": "ERROR 010240: Could not save raster dataset to C:\\Users\\mplaciszewska\\Documents\\ArcGIS\\Projects\\analiza_polozenia_farmy\\analiza_polozenia_farmy\\analiza_polozenia_farmy.gdb\\FuzzyOv_Fuzz4 with output format FGDBR.",
     "output_type": "error",
     "traceback": [
      "\u001b[0;31m---------------------------------------------------------------------------\u001b[0m\n\u001b[0;31mRuntimeError\u001b[0m                              Traceback (most recent call last)",
      "In  \u001b[0;34m[7]\u001b[0m:\nLine \u001b[0;34m3\u001b[0m:     kryterium_wody.save(\u001b[33mf\u001b[39;49;00m\u001b[33m\"\u001b[39;49;00m\u001b[33m{\u001b[39;49;00moutput_folder\u001b[33m}\u001b[39;49;00m\u001b[33m\\\u001b[39;49;00m\u001b[33mkryterium_wody\u001b[39;49;00m\u001b[33m\"\u001b[39;49;00m)\n",
      "\u001b[0;31mRuntimeError\u001b[0m: ERROR 010240: Could not save raster dataset to C:\\Users\\mplaciszewska\\Documents\\ArcGIS\\Projects\\analiza_polozenia_farmy\\analiza_polozenia_farmy\\analiza_polozenia_farmy.gdb\\FuzzyOv_Fuzz4 with output format FGDBR.\n\u001b[0;31m---------------------------------------------------------------------------\u001b[0m"
     ]
    }
   ],
   "source": [
    "# połączenie kryterium ostrego i rozmytego dla wody\n",
    "kryterium_wody = arcpy.sa.FuzzyOverlay([wody_ostre, wody_rozmyte], 'AND')\n",
    "kryterium_wody.save(f\"{output_folder}\\kryterium_wody\")"
   ]
  },
  {
   "cell_type": "markdown",
   "metadata": {},
   "source": [
    "Kryterium 2 - odległość od budynków mieszkalnych"
   ]
  },
  {
   "cell_type": "code",
   "execution_count": null,
   "metadata": {},
   "outputs": [],
   "source": [
    "kryterium_budynki = arcpy.sa.FuzzyMembership(distance_budynki,  arcpy.sa.FuzzyLinear(150, 400))\n",
    "kryterium_budynki.save(f\"{output_folder}\\kryterium_budynki\")"
   ]
  },
  {
   "cell_type": "markdown",
   "metadata": {},
   "source": [
    "Kryterium 3 - pokrycie terenu, nie w lesie, powyżej 15m od lasu, optymalnie 100m od lasu "
   ]
  },
  {
   "cell_type": "code",
   "execution_count": null,
   "metadata": {},
   "outputs": [],
   "source": [
    "kryterium_lasy = arcpy.sa.FuzzyMembership(distance_lasy, arcpy.sa.FuzzyLinear(15, 100))\n",
    "kryterium_lasy.save(f\"{output_folder}\\kryterium_lasy\")"
   ]
  },
  {
   "cell_type": "markdown",
   "metadata": {},
   "source": [
    "Kryterium 4 - dostęp do dróg utwardzonych, jak największe zagęszczenie "
   ]
  },
  {
   "cell_type": "code",
   "execution_count": null,
   "metadata": {},
   "outputs": [],
   "source": [
    "# ocena przydatnosci pod wzgledem zageszczenia\n",
    "raster_zageszczenia = arcpy.sa.LineDensity(\n",
    "    in_polyline_features=drogi_selected,\n",
    "    population_field=\"NONE\",\n",
    "    cell_size=5,\n",
    "    search_radius=1000,\n",
    "    area_unit_scale_factor=\"SQUARE_METERS\"\n",
    ")\n",
    "arcpy.management.CalculateStatistics(raster_zageszczenia)\n",
    "\n",
    "max_value = raster_zageszczenia.maximum\n",
    "\n",
    "# przeskalowanie rastra zageszczenia do wartosci 0-1\n",
    "kryterium_drogi = arcpy.sa.RescaleByFunction(\n",
    "    in_raster=raster_zageszczenia,\n",
    "    transformation_function= f\"LINEAR 0 1,{max_value} 0 # {max_value} #\",\n",
    "    from_scale=0,\n",
    "    to_scale=1\n",
    ")\n",
    "\n",
    "kryterium_drogi.save(f\"{output_folder}\\kryterium_drogi\")\n"
   ]
  },
  {
   "cell_type": "markdown",
   "metadata": {},
   "source": [
    "Kryterium 5 - nachylenie stoków, optymalnie płasko, maksymalnie 10%"
   ]
  },
  {
   "cell_type": "code",
   "execution_count": null,
   "metadata": {},
   "outputs": [],
   "source": [
    "#stworzenie warstwy z nachyleniem terenu narzędziem Slope\n",
    "spadki_output = f\"{output_folder}\\spadki\"\n",
    "spadki = arcpy.ddd.Slope(raster_gmina, spadki_output, \"PERCENT_RISE\", 1)\n",
    "\n",
    "kryterium_spadki = arcpy.sa.FuzzyMembership(spadki, arcpy.sa.FuzzyLinear(10, 3))\n",
    "kryterium_spadki.save(f\"{output_folder}\\kryterium_spadki\")"
   ]
  },
  {
   "cell_type": "markdown",
   "metadata": {},
   "source": [
    "Kryterium 6 - nasłonecznienie, optymalnie stoki południowe (SW-SE)"
   ]
  },
  {
   "cell_type": "code",
   "execution_count": null,
   "metadata": {},
   "outputs": [],
   "source": [
    "#stworzenie warstwy ze stokami narzędziem Aspect\n",
    "stoki_output = f\"{output_folder}\\stoki\"\n",
    "stoki = arcpy.ddd.Aspect(raster_gmina, stoki_output)\n",
    "\n",
    "# rozdzielenie kryterium rozmytego na rosnący i malejący\n",
    "stoki_ES = arcpy.sa.FuzzyMembership(stoki, arcpy.sa.FuzzyLinear(90, 113))\n",
    "stoki_WS = arcpy.sa.FuzzyMembership(stoki, arcpy.sa.FuzzyLinear(270, 248))\n",
    "\n",
    "# ustawienie przydatności płaskich stoków na 1\n",
    "plaskie_stoki = arcpy.sa.Con(stoki, 1, 0, \"VALUE = -1\") \n",
    "\n",
    "stoki_rozmyte = arcpy.sa.FuzzyOverlay([stoki_ES, stoki_WS], 'AND')\n",
    "\n",
    "kryterium_stoki = arcpy.sa.FuzzyOverlay([stoki_rozmyte, plaskie_stoki], 'OR')\n",
    "\n",
    "kryterium_stoki.save(f\"{output_folder}\\kryterium_stoki\")"
   ]
  },
  {
   "cell_type": "markdown",
   "metadata": {},
   "source": [
    "Kryterium 7 - dobry dojazd od istotnych drogowych węzłów komunikacyjnych"
   ]
  },
  {
   "cell_type": "code",
   "execution_count": null,
   "metadata": {},
   "outputs": [],
   "source": [
    "kryterium_wezly = arcpy.sa.FuzzyMembership(distance_wezly, \n",
    "                        arcpy.sa.FuzzyLinear(distance_wezly.maximum, 300))\n",
    "kryterium_wezly.save(f\"{output_folder}\\kryteriumWezly\")\n",
    "m.addDataFromPath(f\"{output_folder}\\kryteriumWezly\")"
   ]
  },
  {
   "cell_type": "markdown",
   "metadata": {},
   "source": [
    "## Połączenie kryteriów"
   ]
  },
  {
   "cell_type": "code",
   "execution_count": null,
   "metadata": {},
   "outputs": [],
   "source": [
    "# połączenie kryteriów stosując równe wagi dla kryteriów\n",
    "\n",
    "rowna_waga = 1/7\n",
    "\n",
    "kryteria_rowne = arcpy.sa.WSTable(\n",
    "    [\n",
    "        [kryterium_budynki, \"VALUE\", rowna_waga],\n",
    "        [kryterium_drogi, \"VALUE\", rowna_waga],\n",
    "        [kryterium_lasy, \"VALUE\", rowna_waga],\n",
    "        [kryterium_spadki, \"VALUE\", rowna_waga],\n",
    "        [kryterium_stoki, \"VALUE\", rowna_waga],\n",
    "        [kryterium_wody, \"VALUE\", rowna_waga],\n",
    "        [kryterium_wezly, \"VALUE\", rowna_waga],\n",
    "    ]\n",
    ")\n",
    "polaczone_kryteria_rowne = arcpy.sa.WeightedSum(kryteria_rowne)\n",
    "\n",
    "polaczone_kryteria_rowne.save(f\"{output_folder}\\polaczone_kryteria_rowne\")\n",
    "\n",
    "# połączenie kryteriów stosując różne wagi dla kryteriów metodą AHP : https://bpmsg.com/ahp/ahp-calc.php?n=7&t=AHP+priorities&c[0]=odleglosc+od+wod&c[1]=odleglosc+od+lasow&c[2]=odl+bud&c[3]=drogi&c[4]=spadki&c[5]=naslonecznienie&c[6]=wezly\n",
    "\n",
    "kryteria_rozne = arcpy.sa.WSTable(\n",
    "    [\n",
    "        [kryterium_budynki, \"VALUE\", 0.120244],\n",
    "        [kryterium_drogi, \"VALUE\", 0.051404],\n",
    "        [kryterium_lasy, \"VALUE\", 0.248666],\n",
    "        [kryterium_spadki, \"VALUE\", 0.187234],\n",
    "        [kryterium_stoki, \"VALUE\", 0.163683],\n",
    "        [kryterium_wody, \"VALUE\", 0.207279],\n",
    "        [kryterium_wezly, \"VALUE\", 0.021489],\n",
    "    ]\n",
    ")\n",
    "polaczone_kryteria_rozne = arcpy.sa.WeightedSum(kryteria_rozne)\n",
    "\n",
    "polaczone_kryteria_rozne.save(f\"{output_folder}\\polaczone_kryteria_rozne\")\n",
    "print(\"ok\")\n"
   ]
  },
  {
   "cell_type": "markdown",
   "metadata": {},
   "source": [
    "## Uwzględnienie kryteriów ostrych do map przydatności (nieprzekraczalne strefy w kryterium wody, budynków i lasów)"
   ]
  },
  {
   "cell_type": "code",
   "execution_count": null,
   "metadata": {},
   "outputs": [],
   "source": [
    "# budynki ostre:\n",
    "budynki_ostre = arcpy.ddd.Reclassify(distance_budynki, \"VALUE\", f\"0 150 0; 150 {distance_budynki.maximum} 1\")\n",
    "\n",
    "# lasy ostre:\n",
    "lasy_ostre = arcpy.ddd.Reclassify(distance_lasy, \"VALUE\", f\"0 15 0; 15 {distance_lasy.maximum} 1\")\n",
    "\n",
    "def times(in_raster1, in_raster2):\n",
    "    out_raster = arcpy.ia.Times(\n",
    "        in_raster_or_constant1=in_raster1,\n",
    "        in_raster_or_constant2=in_raster2\n",
    "    )\n",
    "    return out_raster\n",
    "\n",
    "# przemnożenie mapy przydatności przez kryteria ostre:\n",
    "def polacz_ostre(polaczone_kryteria):\n",
    "    mapa_przydatnosci1 = times(polaczone_kryteria, wody_ostre)\n",
    "    mapa_przydatnosci2 = times(mapa_przydatnosci1, budynki_ostre)\n",
    "    mapa_przydatnosci = times(mapa_przydatnosci2, lasy_ostre)\n",
    "\n",
    "    return mapa_przydatnosci\n",
    "\n",
    "mapa_przydatnosci_rowne = polacz_ostre(polaczone_kryteria_rowne)\n",
    "mapa_przydatnosci_rozne = polacz_ostre(polaczone_kryteria_rozne)\n",
    "\n",
    "mapa_przydatnosci_rowne.save(f\"{output_folder}\\mapa_przydatnosci_rowne\")\n",
    "# m.addDataFromPath(R\"C:\\Users\\mplaciszewska\\Documents\\ArcGIS\\Projects\\projekt1-analizyp\\projekt1-analizyp.gdb\\mapa_przydatnosci_rowne\")\n",
    "mapa_przydatnosci_rozne.save(f\"{output_folder}\\mapa_przydatnosci_rozne\")\n",
    "# m.addDataFromPath(R\"C:\\Users\\mplaciszewska\\Documents\\ArcGIS\\Projects\\projekt1-analizyp\\projekt1-analizyp.gdb\\mapa_przydatnosci_rozne\")"
   ]
  },
  {
   "cell_type": "markdown",
   "metadata": {},
   "source": [
    "## Reklasyfikacja map przydatnosci w celu wyodrębnienia obszarów o 80% przydatności"
   ]
  },
  {
   "cell_type": "code",
   "execution_count": null,
   "metadata": {},
   "outputs": [],
   "source": [
    "def reklasyfikuj_mape(mapa_przydatnosci):\n",
    "    granica = 70/100 * mapa_przydatnosci.maximum\n",
    "    mapa_reclass = arcpy.sa.Reclassify(mapa_przydatnosci, \"VALUE\", \n",
    "                        f\"0 {granica} 0; {granica} {mapa_przydatnosci.maximum} 1\")\n",
    "    return mapa_reclass\n",
    "\n",
    "# wyciecie jedynie do obszaru gminy (bez bufora)\n",
    "mapa_przydatnosci_rowne = arcpy.sa.ExtractByMask(\n",
    "    in_raster=mapa_przydatnosci_rowne,\n",
    "    in_mask_data=gmina,\n",
    "    extraction_area=\"INSIDE\"\n",
    ")\n",
    "\n",
    "mapa_przydatnosci_rozne = arcpy.sa.ExtractByMask(\n",
    "    in_raster=mapa_przydatnosci_rozne,\n",
    "    in_mask_data=gmina,\n",
    "    extraction_area=\"INSIDE\"\n",
    ")\n",
    "\n",
    "mapa_przydatnosci_reclass_rowne = reklasyfikuj_mape(mapa_przydatnosci_rowne)\n",
    "mapa_przydatnosci_reclass_rozne = reklasyfikuj_mape(mapa_przydatnosci_rozne)\n",
    "mapa_przydatnosci_reclass_rowne.save(f\"{output_folder}\\mapa_przydatnosci_reclass_rowne\")\n",
    "# m.addDataFromPath(R\"C:\\Users\\mplaciszewska\\Documents\\ArcGIS\\Projects\\projekt1-analizyp\\projekt1-analizyp.gdb\\mapa_przydatnosci_reclass_rowne\")\n",
    "mapa_przydatnosci_reclass_rozne.save(f\"{output_folder}\\mapa_przydatnosci_reclass_rozne\")\n",
    "# m.addDataFromPath(R\"C:\\Users\\mplaciszewska\\Documents\\ArcGIS\\Projects\\projekt1-analizyp\\projekt1-analizyp.gdb\\mapa_przydatnosci_reclass_rozne\")"
   ]
  },
  {
   "cell_type": "markdown",
   "metadata": {},
   "source": [
    "## Obliczenie jaka część działki stanowi obszar przydatny pod lokalizację inwestycji"
   ]
  },
  {
   "cell_type": "code",
   "execution_count": null,
   "metadata": {},
   "outputs": [],
   "source": [
    "# przekształcenie map przydatności do postaci wektorowej\n",
    "def oblicz_przydatnosc_dzialki(mapa_przydatnosci, out_str):\n",
    "    mapa_przydatnosci_wektor = f\"{output_folder}\\mapa_przydatnosci_wektor\"\n",
    "    with arcpy.EnvManager(outputZFlag=\"Disabled\", outputMFlag=\"Disabled\"):\n",
    "        arcpy.conversion.RasterToPolygon(\n",
    "            in_raster=mapa_przydatnosci,\n",
    "            out_polygon_features=mapa_przydatnosci_wektor,\n",
    "            simplify=\"SIMPLIFY\",\n",
    "            raster_field=\"Value\",\n",
    "            create_multipart_features=\"SINGLE_OUTER_PART\",\n",
    "            max_vertices_per_feature=None\n",
    "        )\n",
    "\n",
    "    # Intersect aby przyciąć poligony przydatności do działek:\n",
    "    przydatnosc_dzialki_przeciecie = arcpy.analysis.Intersect(\n",
    "        in_features=[mapa_przydatnosci_wektor, dzialki],\n",
    "        out_feature_class=f\"{output_folder}\\przydatnosc_dzialki_przeciecie\",\n",
    "        join_attributes=\"ALL\",\n",
    "        cluster_tolerance=None,\n",
    "        output_type=\"INPUT\"\n",
    "    )\n",
    "\n",
    "    # Selekcja tylko przydatnych poligonów \n",
    "    przydatne_poligony = arcpy.management.MakeFeatureLayer(\n",
    "        in_features=przydatnosc_dzialki_przeciecie,\n",
    "        out_layer=f\"{output_folder}\\przydatne_poligony\",\n",
    "        where_clause=\"gridcode = 1\",\n",
    "        workspace=None,\n",
    "    )\n",
    "\n",
    "    # Zliczenie jaka część działki jest pokryta przydatnymi obszarami\n",
    "    przydatnosc_dzialki_pole = arcpy.analysis.SummarizeWithin(\n",
    "        in_polygons=dzialki, \n",
    "        in_sum_features=przydatne_poligony,  \n",
    "        out_feature_class=f\"{output_folder}\\przydatnosc_dzialki_pole_{out_str}\",\n",
    "        keep_all_polygons=\"ONLY_INTERSECTING\",  \n",
    "        sum_fields=\"Shape_Area Sum\", \n",
    "        shape_unit=\"SQUAREMETERS\"\n",
    "    )\n",
    "    \n",
    "    # dodanie atrybutu o % przydatności działki\n",
    "    arcpy.management.CalculateField(\n",
    "        in_table=przydatnosc_dzialki_pole,\n",
    "        field=\"Procent_powierzchni_przydatnej\",\n",
    "        field_type = \"DOUBLE\",\n",
    "        expression=\"(!SUM_Shape_Area! / !Shape_Area!) * 100\",\n",
    "        expression_type=\"PYTHON3\"\n",
    "    )\n",
    "    \n",
    "    return przydatnosc_dzialki_pole\n",
    "\n",
    "przydatnosc_dzialki_rowne = oblicz_przydatnosc_dzialki(mapa_przydatnosci_reclass_rowne, \"rowne\")\n",
    "m.addDataFromPath(f\"{output_folder}\\przydatnosc_dzialki_pole_rowne\")\n",
    "\n",
    "przydatnosc_dzialki_rozne = oblicz_przydatnosc_dzialki(mapa_przydatnosci_reclass_rozne, \"rozne\")\n",
    "m.addDataFromPath(f\"{output_folder}\\przydatnosc_dzialki_pole_rozne\")"
   ]
  },
  {
   "cell_type": "markdown",
   "metadata": {},
   "source": [
    "## Wybranie działek spełniających kryteria - min 60% przydatności"
   ]
  },
  {
   "cell_type": "code",
   "execution_count": null,
   "metadata": {},
   "outputs": [],
   "source": [
    "# Selekcja działek o min. 60% przydatności:\n",
    "def selekcja_przydatnych_dzialek(przydatnosc_dzialki, out_str):\n",
    "    przydatne_dzialki = arcpy.management.SelectLayerByAttribute(przydatnosc_dzialki, \"NEW_SELECTION\", '\"Procent_powierzchni_przydatnej\" > 60', None)\n",
    "    arcpy.management.CopyFeatures(przydatne_dzialki, f\"{output_folder}\\przydatne_dzialki_{out_str}\", '', None, None, None)\n",
    "    przydatne_dzialki_selected = 'przydatne_dzialki_selected'\n",
    "    \n",
    "    # Połączenie sąsiadujących działek w jeden obiekt\n",
    "    polaczone_dzialki = arcpy.management.Dissolve(\n",
    "        in_features=przydatne_dzialki,\n",
    "        out_feature_class=f\"{output_folder}\\polaczone_dzialki_{out_str}\",\n",
    "        dissolve_field=None,\n",
    "        statistics_fields=\"Shape_Area SUM\",\n",
    "        multi_part=\"SINGLE_PART\",\n",
    "        unsplit_lines=\"UNSPLIT_LINES\",\n",
    "        concatenation_separator=\"\"\n",
    "    )\n",
    "    \n",
    "    arcpy.SelectLayerByAttribute_management(przydatne_dzialki, \"CLEAR_SELECTION\")\n",
    "    return polaczone_dzialki\n",
    "\n",
    "polaczone_dzialki_rowne = selekcja_przydatnych_dzialek(przydatnosc_dzialki_rowne, \"rowne\")\n",
    "polaczone_dzialki_rozne = selekcja_przydatnych_dzialek(przydatnosc_dzialki_rozne, \"rozne\")"
   ]
  },
  {
   "cell_type": "markdown",
   "metadata": {},
   "source": [
    "## Wybranie działek spełniających kryterium powierzchni i szerokości (min 2ha i 50m)"
   ]
  },
  {
   "cell_type": "code",
   "execution_count": null,
   "metadata": {},
   "outputs": [],
   "source": [
    "def dodaj_szerokosc(polaczone_dzialki, sciezka_wyjscia):\n",
    "    # utworzenie prostokątów ograniczających wokół działek \n",
    "    prostokaty_ograniczajace = arcpy.management.MinimumBoundingGeometry(\n",
    "        polaczone_dzialki, \n",
    "        sciezka_wyjscia,\n",
    "        \"RECTANGLE_BY_WIDTH\"\n",
    "    )\n",
    "\n",
    "    arcpy.management.AddField(\n",
    "        prostokaty_ograniczajace,\n",
    "        field_name=\"Width\",\n",
    "        field_type=\"DOUBLE\",\n",
    "    )\n",
    "\n",
    "    arcpy.topographic.CalculateMetrics(\n",
    "        in_features=prostokaty_ograniczajace,\n",
    "        in_metric_types=\"WIDTH\",\n",
    "        in_length_attributes=\"Shape_Length\",\n",
    "        in_width_attributes=\"Width\",\n",
    "        in_area_attributes=\"Shape_Area\",\n",
    "    )\n",
    "\n",
    "    # Wykonanie Join, aby przekazać atrybut szerokości do działek\n",
    "    fields = arcpy.ListFields(polaczone_dzialki)\n",
    "    for field in fields:\n",
    "        if field.name == \"Width\":\n",
    "            arcpy.management.DeleteField(polaczone_dzialki, \"Width\")\n",
    "\n",
    "    arcpy.management.JoinField(\n",
    "        in_data=polaczone_dzialki,         \n",
    "        in_field=\"OBJECTID\",                      \n",
    "        join_table=prostokaty_ograniczajace,      \n",
    "        join_field=\"OBJECTID\",                   \n",
    "        fields=[\"Width\"],                  \n",
    "    )\n",
    "    return polaczone_dzialki\n",
    "\n",
    "polaczone_dzialki_rowne = f\"{output_folder}\\polaczone_dzialki_rowne\"\n",
    "sciezka_wyjscia_rowne = f\"{output_folder}\\polaczone_dzialki_rowne_prostokaty\"\n",
    "\n",
    "polaczone_dzialki_rozne = f\"{output_folder}\\polaczone_dzialki_rozne\"\n",
    "sciezka_wyjscia_rozne = f\"{output_folder}\\polaczone_dzialki_rozne_prostokaty\"\n",
    "\n",
    "dodaj_szerokosc(polaczone_dzialki_rowne, sciezka_wyjscia_rowne)\n",
    "dodaj_szerokosc(polaczone_dzialki_rozne, sciezka_wyjscia_rozne)\n",
    "m.addDataFromPath(f\"{output_folder}\\polaczone_dzialki_rowne\")\n",
    "m.addDataFromPath(f\"{output_folder}\\polaczone_dzialki_rozne\")\n"
   ]
  },
  {
   "cell_type": "code",
   "execution_count": null,
   "metadata": {},
   "outputs": [],
   "source": [
    "# selekcja działek:\n",
    "dzialki_rowne_copy = arcpy.management.MakeFeatureLayer(\n",
    "    in_features=polaczone_dzialki_rowne,\n",
    "    out_layer=f\"{output_folder}\\dzialki_rowne_copy\",\n",
    "    where_clause='\"Shape_Area\" >= 20000 AND \"Width\" >= 50',\n",
    ")\n",
    "\n",
    "dzialki_rowne = arcpy.management.CopyFeatures(\n",
    "    in_features=dzialki_rowne_copy,  \n",
    "    out_feature_class=f\"{output_folder}\\dzialki_rowne\"\n",
    ")\n",
    "\n",
    "dzialki_rozne_copy = arcpy.management.MakeFeatureLayer(\n",
    "    in_features=polaczone_dzialki_rozne,\n",
    "    out_layer=f\"{output_folder}\\dzialki_rozne_copy\",\n",
    "    where_clause='\"Shape_Area\" >= 20000 AND \"Width\" >= 50',\n",
    ")\n",
    "\n",
    "dzialki_rozne = arcpy.management.CopyFeatures(\n",
    "    in_features=dzialki_rozne_copy,  \n",
    "    out_feature_class=f\"{output_folder}\\dzialki_rozne\"\n",
    ")\n",
    "\n",
    "m.addDataFromPath(f\"{output_folder}\\dzialki_rowne\")\n",
    "m.addDataFromPath(f\"{output_folder}\\dzialki_rozne\")"
   ]
  },
  {
   "cell_type": "markdown",
   "metadata": {},
   "source": [
    "## Utworzenie mapy kosztów"
   ]
  },
  {
   "cell_type": "code",
   "execution_count": null,
   "metadata": {},
   "outputs": [],
   "source": [
    "# Konwersja warstwy wektorowej do rastra po wartości atrybutu X_KOD\n",
    "raster_pokrycia = arcpy.conversion.FeatureToRaster(\n",
    "    in_features= pokrycie,\n",
    "    field=\"X_KOD\",\n",
    "    out_raster=\"raster_pokrycia\",\n",
    "    cell_size=5\n",
    ")\n",
    "\n",
    "# Reklasyfikacja w celu przypisania kosztów dla różnych wartości X_KOD (mapa kosztów względnych)\n",
    "raster_kosztow = arcpy.ddd.Reclassify(\n",
    "    in_raster=raster_pokrycia,\n",
    "    reclass_field=\"X_KOD\",\n",
    "    remap=\"PTZB01 200;PTZB02 100;PTZB05 50;PTZB03 200;PTZB04 200;PTWZ01 NODATA;PTWP02 200;PTWP03 NODATA;PTUT03 100;PTUT01 NODATA;PTTR02 1;PTTR01 20;PTPL01 50;PTNZ01 150;PTNZ02 150;PTLZ01 100;PTLZ03 50;PTLZ02 50;PTKM01 100;PTWP01 NODATA;PTRK01 15;PTRK02 15;PTUT02 90;PTUT04 20;PTUT05 20;PTKM02 200;PTKM03 200;PTKM04 NODATA;PTGN01 1;PTGN02 1;PTGN03 1;PTGN04 1;PTSO01 NODATA;PTSO02 NODATA;PTWZ02 NODATA\",\n",
    "    out_raster=\"raster_kosztow\",\n",
    "    missing_values=\"NODATA\"\n",
    ")"
   ]
  },
  {
   "cell_type": "code",
   "execution_count": 1,
   "metadata": {},
   "outputs": [
    {
     "ename": "NameError",
     "evalue": "name 'dzialki_rowne' is not defined",
     "output_type": "error",
     "traceback": [
      "\u001b[0;31m---------------------------------------------------------------------------\u001b[0m\n\u001b[0;31mNameError\u001b[0m                                 Traceback (most recent call last)",
      "In  \u001b[0;34m[1]\u001b[0m:\nLine \u001b[0;34m43\u001b[0m:    utworz_sciezki_przylacza(dzialki_rowne, \u001b[33m\"\u001b[39;49;00m\u001b[33mrowne\u001b[39;49;00m\u001b[33m\"\u001b[39;49;00m)\n",
      "\u001b[0;31mNameError\u001b[0m: name 'dzialki_rowne' is not defined\n\u001b[0;31m---------------------------------------------------------------------------\u001b[0m"
     ]
    }
   ],
   "source": [
    "linie_energ = arcpy.management.SelectLayerByAttribute(linie_energ, \"NEW_SELECTION\", \"rodzaj = 'linia elektroenergetyczna średniego napięcia'\", None)\n",
    "arcpy.management.CopyFeatures(linie_energ, fr\"{output_folder}\\warstwy_wejsciowe\\linie_energ_selected\", '', None, None, None)\n",
    "linie_energ_selected = fr\"{output_folder}\\linie_energ_selected\"\n",
    "arcpy.SelectLayerByAttribute_management(linie_energ, \"CLEAR_SELECTION\")\n",
    "\n",
    "def utworz_sciezki_przylacza(dzialki, dzialki_str):\n",
    "    with arcpy.da.SearchCursor(dzialki,['SHAPE@', 'OBJECTID']) as cursor:\n",
    "        for row in cursor:\n",
    "            geometry = row[0]\n",
    "            object_id = row[1]\n",
    "\n",
    "            warstwa = f\"in_memory\\\\dzialka{object_id}_{dzialki_str}\"\n",
    "            arcpy.management.CopyFeatures([geometry], warstwa)\n",
    "\n",
    "            sciezka_wyjsciowa = (f\"{output_folder}\\dzialka_{object_id}_{dzialki_str}\")\n",
    "            dzialka = arcpy.management.CopyFeatures(warstwa, sciezka_wyjsciowa)\n",
    "\n",
    "            # Utworzenie mapy kosztów skumulowanych i mapy kierunków\n",
    "            mapa_kosztow = arcpy.sa.CostDistance(\n",
    "                in_source_data=dzialka,\n",
    "                in_cost_raster=raster_kosztow,\n",
    "                out_backlink_raster=f\"{output_folder}\\mapa_kierunkow_{object_id}_{dzialki_str}\"\n",
    "            )\n",
    "            mapa_kosztow.save(f\"{output_folder}\\mapa_kosztow_{object_id}_{dzialki_str}\")\n",
    "            mapa_kierunkow = f\"{output_folder}\\mapa_kierunkow_{object_id}_{dzialki_str}\"\n",
    "\n",
    "            # Utworzenie ścieżki przyłącza od działek do istniejących linii energetycznych\n",
    "            sciezka_przylacza = arcpy.sa.CostPath(\n",
    "                in_destination_data=linie_energ,\n",
    "                in_cost_distance_raster=mapa_kosztow,\n",
    "                in_cost_backlink_raster=mapa_kierunkow,\n",
    "                path_type=\"BEST_SINGLE\",\n",
    "                destination_field=\"OBJECTID\"\n",
    "            )\n",
    "            sciezka_przylacza.save(f\"{output_folder}\\cost_path_{object_id}_{dzialki_str}\")\n",
    "            \n",
    "            arcpy.conversion.RasterToPolyline(\n",
    "                in_raster=sciezka_przylacza,\n",
    "                out_polyline_features=f\"{output_folder}\\sciezka_przylacza_{object_id}_{dzialki_str}\",\n",
    "                background_value=\"ZERO\",\n",
    "                minimum_dangle_length=0,\n",
    "                simplify=\"SIMPLIFY\",\n",
    "                raster_field=\"Value\"\n",
    "            )\n",
    "            m.addDataFromPath(f\"{output_folder}\\sciezka_przylacza_{object_id}_{dzialki_str}\")\n",
    "            \n",
    "utworz_sciezki_przylacza(dzialki_rowne, \"rowne\")\n",
    "utworz_sciezki_przylacza(dzialki_rozne, \"rozne\")"
   ]
  },
  {
   "cell_type": "code",
   "execution_count": null,
   "metadata": {},
   "outputs": [],
   "source": []
  }
 ],
 "metadata": {
  "kernelspec": {
   "display_name": "ArcGISPro",
   "language": "Python",
   "name": "python3"
  },
  "language_info": {
   "file_extension": ".py",
   "name": "python",
   "version": "3"
  }
 },
 "nbformat": 4,
 "nbformat_minor": 2
}
